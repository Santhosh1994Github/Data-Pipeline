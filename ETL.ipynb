{
 "cells": [
  {
   "cell_type": "markdown",
   "metadata": {},
   "source": [
    "### Installing Packages"
   ]
  },
  {
   "cell_type": "code",
   "execution_count": 2,
   "metadata": {},
   "outputs": [
    {
     "name": "stdout",
     "output_type": "stream",
     "text": [
      "Collecting PyMysql\n",
      "  Downloading PyMySQL-1.0.2-py3-none-any.whl (43 kB)\n",
      "Installing collected packages: PyMysql\n",
      "Successfully installed PyMysql-1.0.2\n",
      "Requirement already satisfied: PyMySQL in c:\\users\\a.jothinagarajana\\anaconda3\\lib\\site-packages (1.0.2)\n"
     ]
    }
   ],
   "source": [
    "!pip install PyMySQL"
   ]
  },
  {
   "cell_type": "markdown",
   "metadata": {},
   "source": [
    "### Importing Packages"
   ]
  },
  {
   "cell_type": "code",
   "execution_count": 109,
   "metadata": {},
   "outputs": [],
   "source": [
    "import pymysql\n",
    "import pandas as pd\n",
    "import datetime\n",
    "import numpy as np"
   ]
  },
  {
   "cell_type": "markdown",
   "metadata": {},
   "source": [
    "### Extracting data from AWS RDS"
   ]
  },
  {
   "cell_type": "markdown",
   "metadata": {},
   "source": [
    "#### Creating a connection object"
   ]
  },
  {
   "cell_type": "code",
   "execution_count": 7,
   "metadata": {},
   "outputs": [],
   "source": [
    "connection = pymysql.connect(host = 'orders-db-jsk.ccubfdmlmxi1.ap-south-1.rds.amazonaws.com',user = 'jskorders',password = '12345678')"
   ]
  },
  {
   "cell_type": "markdown",
   "metadata": {},
   "source": [
    "#### Creating a cursor object"
   ]
  },
  {
   "cell_type": "code",
   "execution_count": null,
   "metadata": {},
   "outputs": [],
   "source": [
    "cursor = connection.cursor()"
   ]
  },
  {
   "cell_type": "markdown",
   "metadata": {},
   "source": [
    "#### getting data from customers, orders, returns and transactions tables"
   ]
  },
  {
   "cell_type": "markdown",
   "metadata": {},
   "source": [
    "#### returns"
   ]
  },
  {
   "cell_type": "code",
   "execution_count": 38,
   "metadata": {},
   "outputs": [
    {
     "data": {
      "text/plain": [
       "296"
      ]
     },
     "execution_count": 38,
     "metadata": {},
     "output_type": "execute_result"
    }
   ],
   "source": [
    "sql = \"\"\"SELECT * FROM etl.returns\"\"\"\n",
    "cursor.execute(sql)"
   ]
  },
  {
   "cell_type": "code",
   "execution_count": 39,
   "metadata": {},
   "outputs": [],
   "source": [
    "returns = pd.DataFrame(list(cursor.fetchall()))"
   ]
  },
  {
   "cell_type": "code",
   "execution_count": 55,
   "metadata": {},
   "outputs": [],
   "source": [
    "returns.rename(columns = {0:'order_id',1:'return_reason'},inplace = True)"
   ]
  },
  {
   "cell_type": "markdown",
   "metadata": {},
   "source": [
    "-------"
   ]
  },
  {
   "cell_type": "markdown",
   "metadata": {},
   "source": [
    "#### orders"
   ]
  },
  {
   "cell_type": "code",
   "execution_count": 42,
   "metadata": {},
   "outputs": [
    {
     "data": {
      "text/plain": [
       "5006"
      ]
     },
     "execution_count": 42,
     "metadata": {},
     "output_type": "execute_result"
    }
   ],
   "source": [
    "sql = \"\"\"SELECT * FROM etl.orders\"\"\"\n",
    "cursor.execute(sql)"
   ]
  },
  {
   "cell_type": "code",
   "execution_count": 43,
   "metadata": {},
   "outputs": [],
   "source": [
    "orders = pd.DataFrame(list(cursor.fetchall()))"
   ]
  },
  {
   "cell_type": "code",
   "execution_count": 56,
   "metadata": {},
   "outputs": [],
   "source": [
    "orders.rename(columns = {0:'order_id',\n",
    "                        1:'customer_id',\n",
    "                        2:'order_status',\n",
    "                        3:'order_purchase_date',\n",
    "                        4:'order_approved_at',\n",
    "                        5:'order_delivered_carrier_date',\n",
    "                        6:'order_delivered_customer_date',\n",
    "                        7:'order_estimated_delivery_date'},inplace = True)"
   ]
  },
  {
   "cell_type": "markdown",
   "metadata": {},
   "source": [
    "----"
   ]
  },
  {
   "cell_type": "markdown",
   "metadata": {},
   "source": [
    "#### transactions"
   ]
  },
  {
   "cell_type": "code",
   "execution_count": 46,
   "metadata": {},
   "outputs": [
    {
     "data": {
      "text/plain": [
       "5910"
      ]
     },
     "execution_count": 46,
     "metadata": {},
     "output_type": "execute_result"
    }
   ],
   "source": [
    "sql = '''SELECT * FROM etl.transactions'''\n",
    "cursor.execute(sql)"
   ]
  },
  {
   "cell_type": "code",
   "execution_count": 47,
   "metadata": {},
   "outputs": [],
   "source": [
    "transactions = pd.DataFrame(list(cursor.fetchall()))"
   ]
  },
  {
   "cell_type": "code",
   "execution_count": 57,
   "metadata": {},
   "outputs": [],
   "source": [
    "transactions.rename(columns = {0:'order_id',\n",
    "                              1:'ship_date',\n",
    "                              2:'ship_mode',\n",
    "                              3:'product_id',\n",
    "                              4:'category',\n",
    "                              5:'sub_category',\n",
    "                              6:'product_name',\n",
    "                              7:'sales',\n",
    "                              8:'quantity',\n",
    "                              9:'discount',\n",
    "                              10:'profit'},inplace = True)"
   ]
  },
  {
   "cell_type": "markdown",
   "metadata": {},
   "source": [
    "-----"
   ]
  },
  {
   "cell_type": "markdown",
   "metadata": {},
   "source": [
    "#### Customers"
   ]
  },
  {
   "cell_type": "code",
   "execution_count": 50,
   "metadata": {},
   "outputs": [
    {
     "data": {
      "text/plain": [
       "332"
      ]
     },
     "execution_count": 50,
     "metadata": {},
     "output_type": "execute_result"
    }
   ],
   "source": [
    "sql = '''SELECT * FROM etl.customers'''\n",
    "cursor.execute(sql)"
   ]
  },
  {
   "cell_type": "code",
   "execution_count": 51,
   "metadata": {},
   "outputs": [],
   "source": [
    "customers = pd.DataFrame(list(cursor.fetchall()))"
   ]
  },
  {
   "cell_type": "code",
   "execution_count": 58,
   "metadata": {},
   "outputs": [],
   "source": [
    "customers.rename(columns = {0:'customer_id',\n",
    "                           1:'customer_email',\n",
    "                           2:'customer_name',\n",
    "                           3:'segment',\n",
    "                           4:'country',\n",
    "                           5:'city',\n",
    "                           6:'state',\n",
    "                           7:'postal_code',\n",
    "                           8:'region'}, inplace = True)"
   ]
  },
  {
   "cell_type": "markdown",
   "metadata": {},
   "source": [
    "-----"
   ]
  },
  {
   "cell_type": "markdown",
   "metadata": {},
   "source": [
    "### Review the created dataframes from AWS RDS"
   ]
  },
  {
   "cell_type": "code",
   "execution_count": 60,
   "metadata": {},
   "outputs": [
    {
     "data": {
      "text/html": [
       "<div>\n",
       "<style scoped>\n",
       "    .dataframe tbody tr th:only-of-type {\n",
       "        vertical-align: middle;\n",
       "    }\n",
       "\n",
       "    .dataframe tbody tr th {\n",
       "        vertical-align: top;\n",
       "    }\n",
       "\n",
       "    .dataframe thead th {\n",
       "        text-align: right;\n",
       "    }\n",
       "</style>\n",
       "<table border=\"1\" class=\"dataframe\">\n",
       "  <thead>\n",
       "    <tr style=\"text-align: right;\">\n",
       "      <th></th>\n",
       "      <th>customer_id</th>\n",
       "      <th>customer_email</th>\n",
       "      <th>customer_name</th>\n",
       "      <th>segment</th>\n",
       "      <th>country</th>\n",
       "      <th>city</th>\n",
       "      <th>state</th>\n",
       "      <th>postal_code</th>\n",
       "      <th>region</th>\n",
       "    </tr>\n",
       "  </thead>\n",
       "  <tbody>\n",
       "    <tr>\n",
       "      <th>0</th>\n",
       "      <td>AA-10375</td>\n",
       "      <td>stern@verizon.net</td>\n",
       "      <td>Allen Armold</td>\n",
       "      <td>Consumer</td>\n",
       "      <td>United States</td>\n",
       "      <td>Mesa</td>\n",
       "      <td>Arizona</td>\n",
       "      <td>85204</td>\n",
       "      <td>West</td>\n",
       "    </tr>\n",
       "  </tbody>\n",
       "</table>\n",
       "</div>"
      ],
      "text/plain": [
       "  customer_id     customer_email customer_name   segment        country  city  \\\n",
       "0    AA-10375  stern@verizon.net  Allen Armold  Consumer  United States  Mesa   \n",
       "\n",
       "     state  postal_code region  \n",
       "0  Arizona        85204   West  "
      ]
     },
     "execution_count": 60,
     "metadata": {},
     "output_type": "execute_result"
    }
   ],
   "source": [
    "customers.head(1)"
   ]
  },
  {
   "cell_type": "code",
   "execution_count": 61,
   "metadata": {},
   "outputs": [
    {
     "data": {
      "text/html": [
       "<div>\n",
       "<style scoped>\n",
       "    .dataframe tbody tr th:only-of-type {\n",
       "        vertical-align: middle;\n",
       "    }\n",
       "\n",
       "    .dataframe tbody tr th {\n",
       "        vertical-align: top;\n",
       "    }\n",
       "\n",
       "    .dataframe thead th {\n",
       "        text-align: right;\n",
       "    }\n",
       "</style>\n",
       "<table border=\"1\" class=\"dataframe\">\n",
       "  <thead>\n",
       "    <tr style=\"text-align: right;\">\n",
       "      <th></th>\n",
       "      <th>order_id</th>\n",
       "      <th>customer_id</th>\n",
       "      <th>order_status</th>\n",
       "      <th>order_purchase_date</th>\n",
       "      <th>order_approved_at</th>\n",
       "      <th>order_delivered_carrier_date</th>\n",
       "      <th>order_delivered_customer_date</th>\n",
       "      <th>order_estimated_delivery_date</th>\n",
       "    </tr>\n",
       "  </thead>\n",
       "  <tbody>\n",
       "    <tr>\n",
       "      <th>0</th>\n",
       "      <td>CA-2017-147039</td>\n",
       "      <td>AA-10315</td>\n",
       "      <td>delivered</td>\n",
       "      <td>2018-06-19</td>\n",
       "      <td>2018-06-19</td>\n",
       "      <td>2018-06-20</td>\n",
       "      <td>2018-06-27</td>\n",
       "      <td>2018-07-25</td>\n",
       "    </tr>\n",
       "  </tbody>\n",
       "</table>\n",
       "</div>"
      ],
      "text/plain": [
       "         order_id customer_id order_status order_purchase_date  \\\n",
       "0  CA-2017-147039    AA-10315    delivered          2018-06-19   \n",
       "\n",
       "  order_approved_at order_delivered_carrier_date  \\\n",
       "0        2018-06-19                   2018-06-20   \n",
       "\n",
       "  order_delivered_customer_date order_estimated_delivery_date  \n",
       "0                    2018-06-27                    2018-07-25  "
      ]
     },
     "execution_count": 61,
     "metadata": {},
     "output_type": "execute_result"
    }
   ],
   "source": [
    "orders.head(1)"
   ]
  },
  {
   "cell_type": "code",
   "execution_count": 62,
   "metadata": {},
   "outputs": [
    {
     "data": {
      "text/html": [
       "<div>\n",
       "<style scoped>\n",
       "    .dataframe tbody tr th:only-of-type {\n",
       "        vertical-align: middle;\n",
       "    }\n",
       "\n",
       "    .dataframe tbody tr th {\n",
       "        vertical-align: top;\n",
       "    }\n",
       "\n",
       "    .dataframe thead th {\n",
       "        text-align: right;\n",
       "    }\n",
       "</style>\n",
       "<table border=\"1\" class=\"dataframe\">\n",
       "  <thead>\n",
       "    <tr style=\"text-align: right;\">\n",
       "      <th></th>\n",
       "      <th>order_id</th>\n",
       "      <th>return_reason</th>\n",
       "    </tr>\n",
       "  </thead>\n",
       "  <tbody>\n",
       "    <tr>\n",
       "      <th>0</th>\n",
       "      <td>CA-2014-100762</td>\n",
       "      <td>Wrong Delivery</td>\n",
       "    </tr>\n",
       "  </tbody>\n",
       "</table>\n",
       "</div>"
      ],
      "text/plain": [
       "         order_id   return_reason\n",
       "0  CA-2014-100762  Wrong Delivery"
      ]
     },
     "execution_count": 62,
     "metadata": {},
     "output_type": "execute_result"
    }
   ],
   "source": [
    "returns.head(1)"
   ]
  },
  {
   "cell_type": "code",
   "execution_count": 63,
   "metadata": {},
   "outputs": [
    {
     "data": {
      "text/html": [
       "<div>\n",
       "<style scoped>\n",
       "    .dataframe tbody tr th:only-of-type {\n",
       "        vertical-align: middle;\n",
       "    }\n",
       "\n",
       "    .dataframe tbody tr th {\n",
       "        vertical-align: top;\n",
       "    }\n",
       "\n",
       "    .dataframe thead th {\n",
       "        text-align: right;\n",
       "    }\n",
       "</style>\n",
       "<table border=\"1\" class=\"dataframe\">\n",
       "  <thead>\n",
       "    <tr style=\"text-align: right;\">\n",
       "      <th></th>\n",
       "      <th>order_id</th>\n",
       "      <th>ship_date</th>\n",
       "      <th>ship_mode</th>\n",
       "      <th>product_id</th>\n",
       "      <th>category</th>\n",
       "      <th>sub_category</th>\n",
       "      <th>product_name</th>\n",
       "      <th>sales</th>\n",
       "      <th>quantity</th>\n",
       "      <th>discount</th>\n",
       "      <th>profit</th>\n",
       "    </tr>\n",
       "  </thead>\n",
       "  <tbody>\n",
       "    <tr>\n",
       "      <th>0</th>\n",
       "      <td>CA-2014-100090</td>\n",
       "      <td>12-07-14</td>\n",
       "      <td>Standard Class</td>\n",
       "      <td>OFF-SU-10000646</td>\n",
       "      <td>Office Supplies</td>\n",
       "      <td>Supplies</td>\n",
       "      <td>Premier Automatic Letter Opener</td>\n",
       "      <td>502.488</td>\n",
       "      <td>3</td>\n",
       "      <td>0.2</td>\n",
       "      <td>-87.9354</td>\n",
       "    </tr>\n",
       "  </tbody>\n",
       "</table>\n",
       "</div>"
      ],
      "text/plain": [
       "         order_id ship_date       ship_mode       product_id         category  \\\n",
       "0  CA-2014-100090  12-07-14  Standard Class  OFF-SU-10000646  Office Supplies   \n",
       "\n",
       "  sub_category                     product_name    sales  quantity  discount  \\\n",
       "0     Supplies  Premier Automatic Letter Opener  502.488         3       0.2   \n",
       "\n",
       "    profit  \n",
       "0 -87.9354  "
      ]
     },
     "execution_count": 63,
     "metadata": {},
     "output_type": "execute_result"
    }
   ],
   "source": [
    "transactions.head(1)"
   ]
  },
  {
   "cell_type": "markdown",
   "metadata": {},
   "source": [
    "-----"
   ]
  },
  {
   "cell_type": "markdown",
   "metadata": {},
   "source": [
    "### Creating Datawarehouse tables"
   ]
  },
  {
   "cell_type": "code",
   "execution_count": 133,
   "metadata": {},
   "outputs": [
    {
     "data": {
      "text/plain": [
       "False    4996\n",
       "True       10\n",
       "Name: order_approved_at, dtype: int64"
      ]
     },
     "execution_count": 133,
     "metadata": {},
     "output_type": "execute_result"
    }
   ],
   "source": [
    "orders.order_approved_at.isnull().value_counts()"
   ]
  },
  {
   "cell_type": "code",
   "execution_count": 88,
   "metadata": {},
   "outputs": [
    {
     "data": {
      "text/plain": [
       "Index(['order_id', 'customer_id', 'order_status', 'order_purchase_date',\n",
       "       'order_approved_at', 'order_delivered_carrier_date',\n",
       "       'order_delivered_customer_date', 'order_estimated_delivery_date'],\n",
       "      dtype='object')"
      ]
     },
     "execution_count": 88,
     "metadata": {},
     "output_type": "execute_result"
    }
   ],
   "source": [
    "orders.columns"
   ]
  },
  {
   "cell_type": "markdown",
   "metadata": {},
   "source": [
    "### Replacing empty string to nan"
   ]
  },
  {
   "cell_type": "code",
   "execution_count": 122,
   "metadata": {},
   "outputs": [],
   "source": [
    "orders.replace('',np.nan,inplace = True)"
   ]
  },
  {
   "cell_type": "markdown",
   "metadata": {},
   "source": [
    "### Converting date strings into datetime objects"
   ]
  },
  {
   "cell_type": "code",
   "execution_count": 148,
   "metadata": {
    "scrolled": true
   },
   "outputs": [
    {
     "data": {
      "text/html": [
       "<div>\n",
       "<style scoped>\n",
       "    .dataframe tbody tr th:only-of-type {\n",
       "        vertical-align: middle;\n",
       "    }\n",
       "\n",
       "    .dataframe tbody tr th {\n",
       "        vertical-align: top;\n",
       "    }\n",
       "\n",
       "    .dataframe thead th {\n",
       "        text-align: right;\n",
       "    }\n",
       "</style>\n",
       "<table border=\"1\" class=\"dataframe\">\n",
       "  <thead>\n",
       "    <tr style=\"text-align: right;\">\n",
       "      <th></th>\n",
       "      <th>order_id</th>\n",
       "      <th>customer_id</th>\n",
       "      <th>order_status</th>\n",
       "      <th>order_purchase_date</th>\n",
       "      <th>order_approved_at</th>\n",
       "      <th>order_delivered_carrier_date</th>\n",
       "      <th>order_delivered_customer_date</th>\n",
       "      <th>order_estimated_delivery_date</th>\n",
       "    </tr>\n",
       "  </thead>\n",
       "  <tbody>\n",
       "    <tr>\n",
       "      <th>0</th>\n",
       "      <td>CA-2017-147039</td>\n",
       "      <td>AA-10315</td>\n",
       "      <td>delivered</td>\n",
       "      <td>2018-06-19</td>\n",
       "      <td>2018-06-19</td>\n",
       "      <td>2018-06-20</td>\n",
       "      <td>2018-06-27</td>\n",
       "      <td>2018-07-25</td>\n",
       "    </tr>\n",
       "    <tr>\n",
       "      <th>1</th>\n",
       "      <td>CA-2015-121391</td>\n",
       "      <td>AA-10315</td>\n",
       "      <td>delivered</td>\n",
       "      <td>2017-11-24</td>\n",
       "      <td>2017-11-25</td>\n",
       "      <td>2017-11-30</td>\n",
       "      <td>2017-12-05</td>\n",
       "      <td>2017-12-08</td>\n",
       "    </tr>\n",
       "    <tr>\n",
       "      <th>2</th>\n",
       "      <td>CA-2014-128055</td>\n",
       "      <td>AA-10315</td>\n",
       "      <td>delivered</td>\n",
       "      <td>2018-05-14</td>\n",
       "      <td>2018-05-14</td>\n",
       "      <td>2018-05-14</td>\n",
       "      <td>2018-05-23</td>\n",
       "      <td>2018-06-05</td>\n",
       "    </tr>\n",
       "    <tr>\n",
       "      <th>3</th>\n",
       "      <td>CA-2016-103982</td>\n",
       "      <td>AA-10315</td>\n",
       "      <td>delivered</td>\n",
       "      <td>2018-04-09</td>\n",
       "      <td>2018-04-10</td>\n",
       "      <td>2018-04-10</td>\n",
       "      <td>2018-04-12</td>\n",
       "      <td>2018-04-19</td>\n",
       "    </tr>\n",
       "    <tr>\n",
       "      <th>4</th>\n",
       "      <td>CA-2014-138100</td>\n",
       "      <td>AA-10315</td>\n",
       "      <td>delivered</td>\n",
       "      <td>2017-12-04</td>\n",
       "      <td>2017-12-06</td>\n",
       "      <td>2017-12-08</td>\n",
       "      <td>2017-12-18</td>\n",
       "      <td>2018-02-13</td>\n",
       "    </tr>\n",
       "    <tr>\n",
       "      <th>...</th>\n",
       "      <td>...</td>\n",
       "      <td>...</td>\n",
       "      <td>...</td>\n",
       "      <td>...</td>\n",
       "      <td>...</td>\n",
       "      <td>...</td>\n",
       "      <td>...</td>\n",
       "      <td>...</td>\n",
       "    </tr>\n",
       "    <tr>\n",
       "      <th>5001</th>\n",
       "      <td>CA-2014-140487</td>\n",
       "      <td>NaN</td>\n",
       "      <td>delivered</td>\n",
       "      <td>2018-03-20</td>\n",
       "      <td>2018-03-20</td>\n",
       "      <td>2018-03-22</td>\n",
       "      <td>2018-04-17</td>\n",
       "      <td>2018-04-20</td>\n",
       "    </tr>\n",
       "    <tr>\n",
       "      <th>5002</th>\n",
       "      <td>CA-2014-131247</td>\n",
       "      <td>NaN</td>\n",
       "      <td>delivered</td>\n",
       "      <td>2018-04-05</td>\n",
       "      <td>2018-04-06</td>\n",
       "      <td>2018-04-10</td>\n",
       "      <td>2018-04-18</td>\n",
       "      <td>2018-04-26</td>\n",
       "    </tr>\n",
       "    <tr>\n",
       "      <th>5003</th>\n",
       "      <td>US-2016-106600</td>\n",
       "      <td>NaN</td>\n",
       "      <td>delivered</td>\n",
       "      <td>2018-03-08</td>\n",
       "      <td>2018-03-08</td>\n",
       "      <td>2018-03-09</td>\n",
       "      <td>2018-05-03</td>\n",
       "      <td>2018-03-29</td>\n",
       "    </tr>\n",
       "    <tr>\n",
       "      <th>5004</th>\n",
       "      <td>CA-2017-141201</td>\n",
       "      <td>NaN</td>\n",
       "      <td>delivered</td>\n",
       "      <td>2018-07-19</td>\n",
       "      <td>2018-07-21</td>\n",
       "      <td>2018-07-25</td>\n",
       "      <td>2018-07-30</td>\n",
       "      <td>2018-08-08</td>\n",
       "    </tr>\n",
       "    <tr>\n",
       "      <th>5005</th>\n",
       "      <td>CA-2014-156790</td>\n",
       "      <td>NaN</td>\n",
       "      <td>delivered</td>\n",
       "      <td>2018-03-20</td>\n",
       "      <td>2018-03-22</td>\n",
       "      <td>2018-03-26</td>\n",
       "      <td>2018-04-05</td>\n",
       "      <td>2018-04-18</td>\n",
       "    </tr>\n",
       "  </tbody>\n",
       "</table>\n",
       "<p>5006 rows × 8 columns</p>\n",
       "</div>"
      ],
      "text/plain": [
       "            order_id customer_id order_status order_purchase_date  \\\n",
       "0     CA-2017-147039    AA-10315    delivered          2018-06-19   \n",
       "1     CA-2015-121391    AA-10315    delivered          2017-11-24   \n",
       "2     CA-2014-128055    AA-10315    delivered          2018-05-14   \n",
       "3     CA-2016-103982    AA-10315    delivered          2018-04-09   \n",
       "4     CA-2014-138100    AA-10315    delivered          2017-12-04   \n",
       "...              ...         ...          ...                 ...   \n",
       "5001  CA-2014-140487         NaN    delivered          2018-03-20   \n",
       "5002  CA-2014-131247         NaN    delivered          2018-04-05   \n",
       "5003  US-2016-106600         NaN    delivered          2018-03-08   \n",
       "5004  CA-2017-141201         NaN    delivered          2018-07-19   \n",
       "5005  CA-2014-156790         NaN    delivered          2018-03-20   \n",
       "\n",
       "     order_approved_at order_delivered_carrier_date  \\\n",
       "0           2018-06-19                   2018-06-20   \n",
       "1           2017-11-25                   2017-11-30   \n",
       "2           2018-05-14                   2018-05-14   \n",
       "3           2018-04-10                   2018-04-10   \n",
       "4           2017-12-06                   2017-12-08   \n",
       "...                ...                          ...   \n",
       "5001        2018-03-20                   2018-03-22   \n",
       "5002        2018-04-06                   2018-04-10   \n",
       "5003        2018-03-08                   2018-03-09   \n",
       "5004        2018-07-21                   2018-07-25   \n",
       "5005        2018-03-22                   2018-03-26   \n",
       "\n",
       "     order_delivered_customer_date order_estimated_delivery_date  \n",
       "0                       2018-06-27                    2018-07-25  \n",
       "1                       2017-12-05                    2017-12-08  \n",
       "2                       2018-05-23                    2018-06-05  \n",
       "3                       2018-04-12                    2018-04-19  \n",
       "4                       2017-12-18                    2018-02-13  \n",
       "...                            ...                           ...  \n",
       "5001                    2018-04-17                    2018-04-20  \n",
       "5002                    2018-04-18                    2018-04-26  \n",
       "5003                    2018-05-03                    2018-03-29  \n",
       "5004                    2018-07-30                    2018-08-08  \n",
       "5005                    2018-04-05                    2018-04-18  \n",
       "\n",
       "[5006 rows x 8 columns]"
      ]
     },
     "execution_count": 148,
     "metadata": {},
     "output_type": "execute_result"
    }
   ],
   "source": [
    "def date_convert(row):\n",
    "    #function to convert datestring into datetime object.\n",
    "    def convert(x):\n",
    "        row[x] = datetime.datetime.strptime(row[x],'%Y-%m-%d')\n",
    "    #list of columns containing date strings.\n",
    "    date_col = ['order_purchase_date','order_approved_at', 'order_delivered_carrier_date',\n",
    "                'order_delivered_customer_date', 'order_estimated_delivery_date']\n",
    "    #For every row, we are iterating through     \n",
    "    for item in date_col:\n",
    "        if type(row[item]) == str:\n",
    "            convert(item)\n",
    "    #return the transformed row.    \n",
    "    return row\n",
    "    \n",
    "orders.apply(date_convert,axis = 'columns')"
   ]
  },
  {
   "cell_type": "markdown",
   "metadata": {},
   "source": [
    "#### Inserting 4 new columns into orders dataframe"
   ]
  },
  {
   "cell_type": "code",
   "execution_count": 200,
   "metadata": {},
   "outputs": [],
   "source": [
    "def new_col(row):\n",
    "    \n",
    "    if type(row['order_purchase_date']) == type(row['order_approved_at']) == datetime.datetime:\n",
    "        row['order_to_approval_duration'] = (row['order_approved_at'] - row['order_purchase_date']).days\n",
    "        return row\n",
    "    else:\n",
    "        row['order_to_approval_duration'] = np.nan\n",
    "        return row\n",
    "    \n",
    "orders = orders.apply(new_col, axis = 'columns')"
   ]
  },
  {
   "cell_type": "code",
   "execution_count": 226,
   "metadata": {},
   "outputs": [],
   "source": [
    "def new_col_1(row):\n",
    "    \n",
    "    if (type(row['order_approved_at']) != np.nan and type(row['order_delivered_carrier_date']) != np.nan):\n",
    "        row['approval_to_carrier_duration'] = (row['order_delivered_carrier_date'] - row['order_approved_at']).days\n",
    "        return row\n",
    "    else:\n",
    "        row['approval_to_carrier_duration'] = np.nan\n",
    "        return row\n",
    "    \n",
    "orders = orders.apply(new_col_1, axis = 'columns')"
   ]
  },
  {
   "cell_type": "code",
   "execution_count": 229,
   "metadata": {},
   "outputs": [],
   "source": [
    "def new_col_2(row):\n",
    "    \n",
    "    if (type(row['order_delivered_carrier_date']) != np.nan and type(row['order_delivered_customer_date']) != np.nan):\n",
    "        row['carrier_to_customer_duration'] = (row['order_delivered_customer_date'] - row['order_delivered_carrier_date']).days\n",
    "        return row\n",
    "    else:\n",
    "        row['carrier_to_customer_duration'] = np.nan\n",
    "        return row\n",
    "    \n",
    "orders = orders.apply(new_col_2, axis = 'columns')"
   ]
  },
  {
   "cell_type": "code",
   "execution_count": 232,
   "metadata": {},
   "outputs": [],
   "source": [
    "def new_col_3(row):\n",
    "    \n",
    "    if (type(row['order_delivered_customer_date']) != np.nan and type(row['order_estimated_delivery_date'] != np.nan)):\n",
    "        row['delivery_delay'] = (row['order_estimated_delivery_date'] - row['order_delivered_customer_date']).days\n",
    "        return row\n",
    "    else:\n",
    "        row['delivery_delay'] = np.nan\n",
    "        return row\n",
    "    \n",
    "orders = orders.apply(new_col_3, axis = 'columns')"
   ]
  },
  {
   "cell_type": "markdown",
   "metadata": {},
   "source": [
    "#### Order value and Order quantity"
   ]
  },
  {
   "cell_type": "code",
   "execution_count": 239,
   "metadata": {},
   "outputs": [],
   "source": [
    "df_val_quant = transactions[['order_id','sales','quantity']].rename(columns = {'sales':'order_value','quantity':'order_quantity'})"
   ]
  },
  {
   "cell_type": "code",
   "execution_count": 240,
   "metadata": {},
   "outputs": [
    {
     "data": {
      "text/html": [
       "<div>\n",
       "<style scoped>\n",
       "    .dataframe tbody tr th:only-of-type {\n",
       "        vertical-align: middle;\n",
       "    }\n",
       "\n",
       "    .dataframe tbody tr th {\n",
       "        vertical-align: top;\n",
       "    }\n",
       "\n",
       "    .dataframe thead th {\n",
       "        text-align: right;\n",
       "    }\n",
       "</style>\n",
       "<table border=\"1\" class=\"dataframe\">\n",
       "  <thead>\n",
       "    <tr style=\"text-align: right;\">\n",
       "      <th></th>\n",
       "      <th>order_id</th>\n",
       "      <th>order_value</th>\n",
       "      <th>order_quantity</th>\n",
       "    </tr>\n",
       "  </thead>\n",
       "  <tbody>\n",
       "    <tr>\n",
       "      <th>0</th>\n",
       "      <td>CA-2014-100090</td>\n",
       "      <td>502.488</td>\n",
       "      <td>3</td>\n",
       "    </tr>\n",
       "    <tr>\n",
       "      <th>1</th>\n",
       "      <td>CA-2014-100090</td>\n",
       "      <td>196.704</td>\n",
       "      <td>6</td>\n",
       "    </tr>\n",
       "    <tr>\n",
       "      <th>2</th>\n",
       "      <td>CA-2014-100328</td>\n",
       "      <td>3.928</td>\n",
       "      <td>1</td>\n",
       "    </tr>\n",
       "    <tr>\n",
       "      <th>3</th>\n",
       "      <td>CA-2014-100678</td>\n",
       "      <td>2.688</td>\n",
       "      <td>2</td>\n",
       "    </tr>\n",
       "    <tr>\n",
       "      <th>4</th>\n",
       "      <td>CA-2014-100678</td>\n",
       "      <td>317.058</td>\n",
       "      <td>3</td>\n",
       "    </tr>\n",
       "  </tbody>\n",
       "</table>\n",
       "</div>"
      ],
      "text/plain": [
       "         order_id  order_value  order_quantity\n",
       "0  CA-2014-100090      502.488               3\n",
       "1  CA-2014-100090      196.704               6\n",
       "2  CA-2014-100328        3.928               1\n",
       "3  CA-2014-100678        2.688               2\n",
       "4  CA-2014-100678      317.058               3"
      ]
     },
     "execution_count": 240,
     "metadata": {},
     "output_type": "execute_result"
    }
   ],
   "source": [
    "df_val_quant.head()"
   ]
  },
  {
   "cell_type": "code",
   "execution_count": 255,
   "metadata": {},
   "outputs": [],
   "source": [
    "order_with_value = pd.merge(orders,df_val_quant,how = 'inner',on = 'order_id')"
   ]
  },
  {
   "cell_type": "code",
   "execution_count": 262,
   "metadata": {},
   "outputs": [],
   "source": [
    "order_with_return = pd.merge(order_with_value,returns,how='left',on='order_id')"
   ]
  },
  {
   "cell_type": "code",
   "execution_count": 274,
   "metadata": {},
   "outputs": [],
   "source": [
    "def returned(row):\n",
    "    if type(row['return_reason']) == float:\n",
    "        row['returned'] = 'N'\n",
    "        return row\n",
    "    else:\n",
    "        row['returned'] = 'Y'\n",
    "        return row\n",
    "\n",
    "order_with_return = order_with_return.apply(returned, axis = 'columns')"
   ]
  },
  {
   "cell_type": "code",
   "execution_count": 280,
   "metadata": {},
   "outputs": [],
   "source": [
    "Order_Fact = order_with_return[['order_id','customer_id','order_to_approval_duration', 'approval_to_carrier_duration',\n",
    "       'carrier_to_customer_duration', 'delivery_delay', 'order_value',\n",
    "       'order_quantity','returned','return_reason']]"
   ]
  },
  {
   "cell_type": "code",
   "execution_count": 289,
   "metadata": {},
   "outputs": [],
   "source": [
    "Order_Fact.to_csv('e:\\\\Users\\\\A.JOTHINAGARAJANA\\\\Downloads\\\\data\\\\Order_Fact.csv',index = False)"
   ]
  },
  {
   "cell_type": "code",
   "execution_count": 291,
   "metadata": {},
   "outputs": [],
   "source": [
    "customers.to_csv('e:\\\\Users\\\\A.JOTHINAGARAJANA\\\\Downloads\\\\data\\\\Customer_Dim.csv',index = False)"
   ]
  }
 ],
 "metadata": {
  "kernelspec": {
   "display_name": "Python 3",
   "language": "python",
   "name": "python3"
  },
  "language_info": {
   "codemirror_mode": {
    "name": "ipython",
    "version": 3
   },
   "file_extension": ".py",
   "mimetype": "text/x-python",
   "name": "python",
   "nbconvert_exporter": "python",
   "pygments_lexer": "ipython3",
   "version": "3.8.3"
  }
 },
 "nbformat": 4,
 "nbformat_minor": 4
}
